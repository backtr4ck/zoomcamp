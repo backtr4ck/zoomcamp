{
 "cells": [
  {
   "cell_type": "code",
   "execution_count": 41,
   "metadata": {},
   "outputs": [
    {
     "name": "stdout",
     "output_type": "stream",
     "text": [
      "353\n"
     ]
    },
    {
     "data": {
      "text/plain": [
       "LoadInfo(pipeline=<dlt.pipeline.pipeline.Pipeline object at 0x7f7d6fe8b1d0>, metrics={'1708275300.6846325': [{'started_at': DateTime(2024, 2, 18, 16, 55, 1, 20009, tzinfo=Timezone('UTC')), 'finished_at': DateTime(2024, 2, 18, 16, 55, 1, 289262, tzinfo=Timezone('UTC'))}]}, destination_type='dlt.destinations.duckdb', destination_displayable_credentials='duckdb:////home/rgh/github/zoomcamp/workshops/workshop_1/people.duckdb', destination_name='duckdb', environment=None, staging_type=None, staging_name=None, staging_displayable_credentials=None, destination_fingerprint='', dataset_name='users', loads_ids=['1708275300.6846325'], load_packages=[LoadPackageInfo(load_id='1708275300.6846325', package_path='/home/rgh/.dlt/pipelines/people/load/loaded/1708275300.6846325', state='loaded', schema=Schema people at 140177469362704, schema_update={}, completed_at=DateTime(2024, 2, 18, 16, 55, 1, 268247, tzinfo=Timezone('UTC')), jobs={'new_jobs': [], 'completed_jobs': [LoadJobInfo(state='completed_jobs', file_path='/home/rgh/.dlt/pipelines/people/load/loaded/1708275300.6846325/completed_jobs/usersss.5a94438486.0.insert_values', file_size=327, created_at=DateTime(2024, 2, 18, 16, 55, 0, 698247, tzinfo=Timezone('UTC')), elapsed=0.570000171661377, job_file_info=ParsedLoadJobFileName(table_name='usersss', file_id='5a94438486', retry_count=0, file_format='insert_values'), failed_message=None), LoadJobInfo(state='completed_jobs', file_path='/home/rgh/.dlt/pipelines/people/load/loaded/1708275300.6846325/completed_jobs/usersss.bb07b44ced.0.sql', file_size=667, created_at=DateTime(2024, 2, 18, 16, 55, 1, 28247, tzinfo=Timezone('UTC')), elapsed=0.24000024795532227, job_file_info=ParsedLoadJobFileName(table_name='usersss', file_id='bb07b44ced', retry_count=0, file_format='sql'), failed_message=None)], 'started_jobs': [], 'failed_jobs': []})], first_run=False)"
      ]
     },
     "execution_count": 41,
     "metadata": {},
     "output_type": "execute_result"
    }
   ],
   "source": [
    "import dlt\n",
    "import duckdb\n",
    "from itertools import chain\n",
    "\n",
    "\n",
    "def people_1():\n",
    "    for i in range(1, 6):\n",
    "        yield {\"ID\": i, \"Name\": f\"Person_{i}\", \"Age\": 25 + i, \"City\": \"City_A\"}\n",
    "\n",
    "\n",
    "def people_2():\n",
    "    for i in range(3, 9):\n",
    "        yield {\n",
    "            \"ID\": i,\n",
    "            \"Name\": f\"Person_{i}\",\n",
    "            \"Age\": 30 + i,\n",
    "            \"City\": \"City_B\",\n",
    "            \"Occupation\": f\"Job_{i}\",\n",
    "        }\n",
    "\n",
    "\n",
    "combined_generator = chain(people_1(), people_2())\n",
    "\n",
    "suma = 0\n",
    "for person in combined_generator:\n",
    "    suma += person[\"Age\"]\n",
    "\n",
    "print(suma)\n",
    "\n",
    "pipeline = dlt.pipeline(\n",
    "    pipeline_name=\"people\", destination=\"duckdb\", dataset_name=\"users\"\n",
    ")\n",
    "\n",
    "pipeline.run(\n",
    "    people_1, table_name=\"usersss\", write_disposition=\"merge\", primary_key=\"Name\"\n",
    ")\n",
    "pipeline.run(\n",
    "    people_2, table_name=\"usersss\", write_disposition=\"merge\", primary_key=\"Name\"\n",
    ")"
   ]
  },
  {
   "cell_type": "code",
   "execution_count": 35,
   "metadata": {},
   "outputs": [
    {
     "data": {
      "text/plain": [
       "┌──────────┐\n",
       "│ sum(age) │\n",
       "│  int128  │\n",
       "├──────────┤\n",
       "│      266 │\n",
       "└──────────┘"
      ]
     },
     "execution_count": 35,
     "metadata": {},
     "output_type": "execute_result"
    }
   ],
   "source": [
    "# show the outcome\n",
    "conn = duckdb.connect(database=f\"{pipeline.pipeline_name}.duckdb\")\n",
    "\n",
    "conn.sql(f\"SET search_path = {pipeline.dataset_name}\")\n",
    "conn.sql(\"select sum(age) from usersss\")"
   ]
  }
 ],
 "metadata": {
  "kernelspec": {
   "display_name": "Python 3",
   "language": "python",
   "name": "python3"
  },
  "language_info": {
   "codemirror_mode": {
    "name": "ipython",
    "version": 3
   },
   "file_extension": ".py",
   "mimetype": "text/x-python",
   "name": "python",
   "nbconvert_exporter": "python",
   "pygments_lexer": "ipython3",
   "version": "3.11.7"
  }
 },
 "nbformat": 4,
 "nbformat_minor": 2
}
