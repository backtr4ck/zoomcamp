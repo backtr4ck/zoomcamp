{
 "cells": [
  {
   "cell_type": "code",
   "execution_count": null,
   "metadata": {},
   "outputs": [],
   "source": [
    "import dlt\n",
    "import duckdb\n",
    "from itertools import chain\n",
    "\n",
    "\n",
    "def people_1():\n",
    "    for i in range(1, 6):\n",
    "        yield {\"ID\": i, \"Name\": f\"Person_{i}\", \"Age\": 25 + i, \"City\": \"City_A\"}\n",
    "\n",
    "\n",
    "def people_2():\n",
    "    for i in range(3, 9):\n",
    "        yield {\n",
    "            \"ID\": i,\n",
    "            \"Name\": f\"Person_{i}\",\n",
    "            \"Age\": 30 + i,\n",
    "            \"City\": \"City_B\",\n",
    "            \"Occupation\": f\"Job_{i}\",\n",
    "        }\n",
    "\n",
    "\n",
    "combined_generator = chain(people_1(), people_2())\n",
    "\n",
    "suma = 0\n",
    "for person in combined_generator:\n",
    "    suma += person[\"Age\"]\n",
    "\n",
    "print(suma)\n",
    "\n",
    "pipeline = dlt.pipeline(\n",
    "    pipeline_name=\"people\", destination=\"duckdb\", dataset_name=\"users\"\n",
    ")\n",
    "\n",
    "pipeline.run(\n",
    "    people_1, table_name=\"usersss\", write_disposition=\"merge\", primary_key=\"Name\"\n",
    ")\n",
    "pipeline.run(\n",
    "    people_2, table_name=\"usersss\", write_disposition=\"merge\", primary_key=\"Name\"\n",
    ")"
   ]
  },
  {
   "cell_type": "code",
   "execution_count": null,
   "metadata": {},
   "outputs": [],
   "source": [
    "# show the outcome\n",
    "conn = duckdb.connect(database=f\"{pipeline.pipeline_name}.duckdb\")\n",
    "\n",
    "conn.sql(f\"SET search_path = {pipeline.dataset_name}\")\n",
    "conn.sql(\"select sum(age) from usersss\")"
   ]
  }
 ],
 "metadata": {
  "kernelspec": {
   "display_name": "Python 3",
   "language": "python",
   "name": "python3"
  },
  "language_info": {
   "codemirror_mode": {
    "name": "ipython",
    "version": 3
   },
   "file_extension": ".py",
   "mimetype": "text/x-python",
   "name": "python",
   "nbconvert_exporter": "python",
   "pygments_lexer": "ipython3",
   "version": "3.11.7"
  }
 },
 "nbformat": 4,
 "nbformat_minor": 2
}
